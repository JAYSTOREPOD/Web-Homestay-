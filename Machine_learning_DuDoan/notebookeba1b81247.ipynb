{
 "cells": [
  {
   "cell_type": "code",
   "execution_count": null,
   "metadata": {
    "_cell_guid": "b1076dfc-b9ad-4769-8c92-a6c4dae69d19",
    "_uuid": "8f2839f25d086af736a60e9eeb907d3b93b6e0e5",
    "execution": {
     "iopub.execute_input": "2024-11-30T17:34:05.103873Z",
     "iopub.status.busy": "2024-11-30T17:34:05.103447Z",
     "iopub.status.idle": "2024-11-30T17:34:05.122272Z",
     "shell.execute_reply": "2024-11-30T17:34:05.121056Z",
     "shell.execute_reply.started": "2024-11-30T17:34:05.103838Z"
    },
    "trusted": true
   },
   "outputs": [
    {
     "ename": "ModuleNotFoundError",
     "evalue": "No module named 'pandas'",
     "output_type": "error",
     "traceback": [
      "\u001b[1;31m---------------------------------------------------------------------------\u001b[0m",
      "\u001b[1;31mModuleNotFoundError\u001b[0m                       Traceback (most recent call last)",
      "Cell \u001b[1;32mIn[1], line 6\u001b[0m\n\u001b[0;32m      1\u001b[0m \u001b[38;5;66;03m# This Python 3 environment comes with many helpful analytics libraries installed\u001b[39;00m\n\u001b[0;32m      2\u001b[0m \u001b[38;5;66;03m# It is defined by the kaggle/python Docker image: https://github.com/kaggle/docker-python\u001b[39;00m\n\u001b[0;32m      3\u001b[0m \u001b[38;5;66;03m# For example, here's several helpful packages to load\u001b[39;00m\n\u001b[0;32m      5\u001b[0m \u001b[38;5;28;01mimport\u001b[39;00m \u001b[38;5;21;01mnumpy\u001b[39;00m \u001b[38;5;28;01mas\u001b[39;00m \u001b[38;5;21;01mnp\u001b[39;00m \u001b[38;5;66;03m# linear algebra\u001b[39;00m\n\u001b[1;32m----> 6\u001b[0m \u001b[38;5;28;01mimport\u001b[39;00m \u001b[38;5;21;01mpandas\u001b[39;00m \u001b[38;5;28;01mas\u001b[39;00m \u001b[38;5;21;01mpd\u001b[39;00m \u001b[38;5;66;03m# data processing, CSV file I/O (e.g. pd.read_csv)\u001b[39;00m\n\u001b[0;32m      8\u001b[0m \u001b[38;5;66;03m# Input data files are available in the read-only \"../input/\" directory\u001b[39;00m\n\u001b[0;32m      9\u001b[0m \u001b[38;5;66;03m# For example, running this (by clicking run or pressing Shift+Enter) will list all files under the input directory\u001b[39;00m\n\u001b[0;32m     11\u001b[0m \u001b[38;5;28;01mimport\u001b[39;00m \u001b[38;5;21;01mos\u001b[39;00m\n",
      "\u001b[1;31mModuleNotFoundError\u001b[0m: No module named 'pandas'"
     ]
    }
   ],
   "source": [
    "\n",
    "\n",
    "import numpy as np \n",
    "import pandas as pd \n",
    "\n",
    "\n",
    "\n",
    "import os\n",
    "for dirname, _, filenames in os.walk('/kaggle/input'):\n",
    "    for filename in filenames:\n",
    "        print(os.path.join(dirname, filename))\n"
   ]
  },
  {
   "cell_type": "code",
   "execution_count": 5,
   "metadata": {},
   "outputs": [
    {
     "name": "stdout",
     "output_type": "stream",
     "text": [
      "Requirement already satisfied: pandas in c:\\users\\admin\\onedrive\\máy tính\\web_homestay\\.venv\\lib\\site-packages (2.2.3)\n",
      "Requirement already satisfied: numpy>=1.26.0 in c:\\users\\admin\\onedrive\\máy tính\\web_homestay\\.venv\\lib\\site-packages (from pandas) (2.1.3)\n",
      "Requirement already satisfied: python-dateutil>=2.8.2 in c:\\users\\admin\\onedrive\\máy tính\\web_homestay\\.venv\\lib\\site-packages (from pandas) (2.9.0.post0)\n",
      "Requirement already satisfied: pytz>=2020.1 in c:\\users\\admin\\onedrive\\máy tính\\web_homestay\\.venv\\lib\\site-packages (from pandas) (2024.2)\n",
      "Requirement already satisfied: tzdata>=2022.7 in c:\\users\\admin\\onedrive\\máy tính\\web_homestay\\.venv\\lib\\site-packages (from pandas) (2024.2)\n",
      "Requirement already satisfied: six>=1.5 in c:\\users\\admin\\onedrive\\máy tính\\web_homestay\\.venv\\lib\\site-packages (from python-dateutil>=2.8.2->pandas) (1.16.0)\n",
      "Note: you may need to restart the kernel to use updated packages.\n"
     ]
    }
   ],
   "source": [
    "pip install pandas"
   ]
  },
  {
   "cell_type": "code",
   "execution_count": 6,
   "metadata": {},
   "outputs": [
    {
     "name": "stdout",
     "output_type": "stream",
     "text": [
      "Collecting scikit-learn\n",
      "  Downloading scikit_learn-1.5.2-cp313-cp313-win_amd64.whl.metadata (13 kB)\n",
      "Requirement already satisfied: numpy>=1.19.5 in c:\\users\\admin\\onedrive\\máy tính\\web_homestay\\.venv\\lib\\site-packages (from scikit-learn) (2.1.3)\n",
      "Collecting scipy>=1.6.0 (from scikit-learn)\n",
      "  Downloading scipy-1.14.1-cp313-cp313-win_amd64.whl.metadata (60 kB)\n",
      "Collecting joblib>=1.2.0 (from scikit-learn)\n",
      "  Downloading joblib-1.4.2-py3-none-any.whl.metadata (5.4 kB)\n",
      "Collecting threadpoolctl>=3.1.0 (from scikit-learn)\n",
      "  Downloading threadpoolctl-3.5.0-py3-none-any.whl.metadata (13 kB)\n",
      "Downloading scikit_learn-1.5.2-cp313-cp313-win_amd64.whl (11.0 MB)\n",
      "   ---------------------------------------- 0.0/11.0 MB ? eta -:--:--\n",
      "   ----- ---------------------------------- 1.6/11.0 MB 9.9 MB/s eta 0:00:01\n",
      "   -------- ------------------------------- 2.4/11.0 MB 7.3 MB/s eta 0:00:02\n",
      "   ------------ --------------------------- 3.4/11.0 MB 5.5 MB/s eta 0:00:02\n",
      "   ---------------- ----------------------- 4.5/11.0 MB 5.5 MB/s eta 0:00:02\n",
      "   -------------------- ------------------- 5.5/11.0 MB 5.4 MB/s eta 0:00:02\n",
      "   ---------------------- ----------------- 6.3/11.0 MB 5.2 MB/s eta 0:00:01\n",
      "   ------------------------- -------------- 7.1/11.0 MB 4.8 MB/s eta 0:00:01\n",
      "   -------------------------- ------------- 7.3/11.0 MB 4.6 MB/s eta 0:00:01\n",
      "   ---------------------------- ----------- 7.9/11.0 MB 4.2 MB/s eta 0:00:01\n",
      "   ------------------------------ --------- 8.4/11.0 MB 3.9 MB/s eta 0:00:01\n",
      "   ------------------------------- -------- 8.7/11.0 MB 3.8 MB/s eta 0:00:01\n",
      "   --------------------------------- ------ 9.2/11.0 MB 3.6 MB/s eta 0:00:01\n",
      "   ----------------------------------- ---- 9.7/11.0 MB 3.5 MB/s eta 0:00:01\n",
      "   ------------------------------------ --- 10.0/11.0 MB 3.4 MB/s eta 0:00:01\n",
      "   -------------------------------------- - 10.5/11.0 MB 3.3 MB/s eta 0:00:01\n",
      "   ---------------------------------------- 11.0/11.0 MB 3.2 MB/s eta 0:00:00\n",
      "Downloading joblib-1.4.2-py3-none-any.whl (301 kB)\n",
      "Downloading scipy-1.14.1-cp313-cp313-win_amd64.whl (44.5 MB)\n",
      "   ---------------------------------------- 0.0/44.5 MB ? eta -:--:--\n",
      "   ---------------------------------------- 0.5/44.5 MB 2.6 MB/s eta 0:00:18\n",
      "    --------------------------------------- 1.0/44.5 MB 2.7 MB/s eta 0:00:17\n",
      "   - -------------------------------------- 1.6/44.5 MB 2.7 MB/s eta 0:00:17\n",
      "   - -------------------------------------- 2.1/44.5 MB 2.7 MB/s eta 0:00:16\n",
      "   -- ------------------------------------- 2.9/44.5 MB 2.8 MB/s eta 0:00:15\n",
      "   --- ------------------------------------ 3.4/44.5 MB 2.8 MB/s eta 0:00:15\n",
      "   --- ------------------------------------ 4.2/44.5 MB 2.9 MB/s eta 0:00:15\n",
      "   ---- ----------------------------------- 4.7/44.5 MB 2.9 MB/s eta 0:00:14\n",
      "   ---- ----------------------------------- 5.5/44.5 MB 2.9 MB/s eta 0:00:14\n",
      "   ----- ---------------------------------- 6.3/44.5 MB 3.0 MB/s eta 0:00:13\n",
      "   ------ --------------------------------- 7.1/44.5 MB 3.0 MB/s eta 0:00:13\n",
      "   ------- -------------------------------- 7.9/44.5 MB 3.1 MB/s eta 0:00:12\n",
      "   ------- -------------------------------- 8.7/44.5 MB 3.2 MB/s eta 0:00:12\n",
      "   -------- ------------------------------- 9.4/44.5 MB 3.2 MB/s eta 0:00:11\n",
      "   --------- ------------------------------ 10.2/44.5 MB 3.2 MB/s eta 0:00:11\n",
      "   --------- ------------------------------ 11.0/44.5 MB 3.3 MB/s eta 0:00:11\n",
      "   ---------- ----------------------------- 12.1/44.5 MB 3.3 MB/s eta 0:00:10\n",
      "   ----------- ---------------------------- 12.8/44.5 MB 3.4 MB/s eta 0:00:10\n",
      "   ------------ --------------------------- 13.6/44.5 MB 3.4 MB/s eta 0:00:10\n",
      "   ------------- -------------------------- 14.7/44.5 MB 3.5 MB/s eta 0:00:09\n",
      "   ------------- -------------------------- 15.5/44.5 MB 3.5 MB/s eta 0:00:09\n",
      "   -------------- ------------------------- 16.5/44.5 MB 3.5 MB/s eta 0:00:08\n",
      "   --------------- ------------------------ 17.6/44.5 MB 3.6 MB/s eta 0:00:08\n",
      "   ---------------- ----------------------- 18.4/44.5 MB 3.6 MB/s eta 0:00:08\n",
      "   ----------------- ---------------------- 19.4/44.5 MB 3.7 MB/s eta 0:00:07\n",
      "   ------------------ --------------------- 20.4/44.5 MB 3.7 MB/s eta 0:00:07\n",
      "   ------------------- -------------------- 21.5/44.5 MB 3.8 MB/s eta 0:00:07\n",
      "   -------------------- ------------------- 22.5/44.5 MB 3.8 MB/s eta 0:00:06\n",
      "   --------------------- ------------------ 23.9/44.5 MB 3.9 MB/s eta 0:00:06\n",
      "   ---------------------- ----------------- 24.6/44.5 MB 3.9 MB/s eta 0:00:06\n",
      "   ---------------------- ----------------- 25.4/44.5 MB 3.9 MB/s eta 0:00:05\n",
      "   ----------------------- ---------------- 26.2/44.5 MB 3.9 MB/s eta 0:00:05\n",
      "   ------------------------ --------------- 27.0/44.5 MB 3.9 MB/s eta 0:00:05\n",
      "   ------------------------- -------------- 28.0/44.5 MB 3.9 MB/s eta 0:00:05\n",
      "   ------------------------- -------------- 28.8/44.5 MB 3.9 MB/s eta 0:00:05\n",
      "   -------------------------- ------------- 29.9/44.5 MB 3.9 MB/s eta 0:00:04\n",
      "   --------------------------- ------------ 30.9/44.5 MB 3.9 MB/s eta 0:00:04\n",
      "   ---------------------------- ----------- 32.0/44.5 MB 4.0 MB/s eta 0:00:04\n",
      "   ----------------------------- ---------- 33.0/44.5 MB 4.0 MB/s eta 0:00:03\n",
      "   ------------------------------ --------- 34.1/44.5 MB 4.0 MB/s eta 0:00:03\n",
      "   ------------------------------- -------- 34.9/44.5 MB 4.0 MB/s eta 0:00:03\n",
      "   -------------------------------- ------- 35.7/44.5 MB 4.0 MB/s eta 0:00:03\n",
      "   -------------------------------- ------- 36.4/44.5 MB 4.0 MB/s eta 0:00:03\n",
      "   --------------------------------- ------ 37.2/44.5 MB 4.0 MB/s eta 0:00:02\n",
      "   ---------------------------------- ----- 38.0/44.5 MB 4.0 MB/s eta 0:00:02\n",
      "   ---------------------------------- ----- 38.8/44.5 MB 4.0 MB/s eta 0:00:02\n",
      "   ----------------------------------- ---- 39.6/44.5 MB 4.0 MB/s eta 0:00:02\n",
      "   ------------------------------------ --- 40.4/44.5 MB 4.0 MB/s eta 0:00:02\n",
      "   ------------------------------------- -- 41.2/44.5 MB 4.0 MB/s eta 0:00:01\n",
      "   ------------------------------------- -- 42.2/44.5 MB 4.0 MB/s eta 0:00:01\n",
      "   -------------------------------------- - 43.0/44.5 MB 4.0 MB/s eta 0:00:01\n",
      "   ---------------------------------------  44.0/44.5 MB 4.0 MB/s eta 0:00:01\n",
      "   ---------------------------------------- 44.5/44.5 MB 3.9 MB/s eta 0:00:00\n",
      "Downloading threadpoolctl-3.5.0-py3-none-any.whl (18 kB)\n",
      "Installing collected packages: threadpoolctl, scipy, joblib, scikit-learn\n",
      "Successfully installed joblib-1.4.2 scikit-learn-1.5.2 scipy-1.14.1 threadpoolctl-3.5.0\n",
      "Note: you may need to restart the kernel to use updated packages.\n"
     ]
    }
   ],
   "source": [
    "pip install scikit-learn"
   ]
  },
  {
   "cell_type": "code",
   "execution_count": 79,
   "metadata": {
    "execution": {
     "iopub.execute_input": "2024-11-30T17:34:07.973960Z",
     "iopub.status.busy": "2024-11-30T17:34:07.973514Z",
     "iopub.status.idle": "2024-11-30T17:34:07.979540Z",
     "shell.execute_reply": "2024-11-30T17:34:07.978316Z",
     "shell.execute_reply.started": "2024-11-30T17:34:07.973926Z"
    },
    "trusted": true
   },
   "outputs": [],
   "source": [
    "import pandas as pd\n",
    "from sklearn.model_selection import train_test_split\n",
    "from sklearn.feature_extraction.text import TfidfVectorizer\n",
    "from sklearn.ensemble import RandomForestClassifier\n",
    "from sklearn.metrics import classification_report\n",
    "import numpy as np\n",
    "import re"
   ]
  },
  {
   "cell_type": "code",
   "execution_count": 80,
   "metadata": {
    "execution": {
     "iopub.execute_input": "2024-11-30T17:34:10.374671Z",
     "iopub.status.busy": "2024-11-30T17:34:10.374276Z",
     "iopub.status.idle": "2024-11-30T17:34:10.417176Z",
     "shell.execute_reply": "2024-11-30T17:34:10.416274Z",
     "shell.execute_reply.started": "2024-11-30T17:34:10.374637Z"
    },
    "trusted": true
   },
   "outputs": [],
   "source": [
    "booking_df = pd.read_csv('D:/booking_hotel.csv', encoding='latin1')\n",
    "tripadvisor_df = pd.read_csv('D:/tripadvisor_room.csv', encoding='latin1')\n"
   ]
  },
  {
   "cell_type": "code",
   "execution_count": 81,
   "metadata": {
    "execution": {
     "iopub.execute_input": "2024-11-30T17:34:12.291128Z",
     "iopub.status.busy": "2024-11-30T17:34:12.290420Z",
     "iopub.status.idle": "2024-11-30T17:34:12.302081Z",
     "shell.execute_reply": "2024-11-30T17:34:12.301031Z",
     "shell.execute_reply.started": "2024-11-30T17:34:12.291090Z"
    },
    "trusted": true
   },
   "outputs": [
    {
     "name": "stdout",
     "output_type": "stream",
     "text": [
      "Booking Data:\n",
      "                           Hotel Name                       Location Rating  \\\n",
      "0   Krabi La Playa Resort - SHA Plus                  Ao Nang Beach    8.2   \n",
      "1        KC Beach Club & Pool Villas  Chaweng City Center , Chaweng    7.1   \n",
      "2       Rawai VIP Villas & Kids Park                    Rawai Beach    8.3   \n",
      "3    FuramaXclusive Sathorn, Bangkok              Bang Rak, Bangkok    7.7   \n",
      "4  Bo Phut Resort and Spa - SHA Plus                         Bophut    9.3   \n",
      "\n",
      "  Review Score review_count  Room Score  \\\n",
      "0    Very Good          141         8.6   \n",
      "1         Good          193         NaN   \n",
      "2    Very Good           63         8.9   \n",
      "3         Good        1,304         8.1   \n",
      "4    Wonderful          294         9.6   \n",
      "\n",
      "                               Room Type                Bed Type  Room Price  \n",
      "0             Deluxe Double or Twin Room     1 double or 2 twins     146,026  \n",
      "1  Double Room with Balcony and Sea View             1 queen bed     215,304  \n",
      "2                   2 Bedroom Pool Villa            2 queen beds     435,384  \n",
      "3                  Executive Double Room              1 full bed     146,240  \n",
      "4                 Villa with Garden View     1 double or 2 twins     621,072  \n",
      "TripAdvisor Data:\n",
      "                               property name  Room Price review_count  \\\n",
      "0       1. SALA Samui Choengmon Beach Resort     45,854        2,820   \n",
      "1     2. Napasai, A Belmond Hotel, Koh Samui     29,666        1,191   \n",
      "2                  3. Pimalai Resort and Spa     31,667        3,287   \n",
      "3  4. Avani+ Mai Khao Phuket Suites & Villas     23,887          144   \n",
      "4                   5. Sheraton Samui Resort     18,816        1,006   \n",
      "\n",
      "                                  Comment about room  \n",
      "0  The breakfast is excellent, the pools are real...  \n",
      "1                We a had perfect view at the beach,  \n",
      "2                                  It has everything  \n",
      "3                                 the villa was very  \n",
      "4  Me & my wife stayed there for 3 Nights and we ...  \n"
     ]
    }
   ],
   "source": [
    "print(\"Booking Data:\\n\", booking_df.head())\n",
    "print(\"TripAdvisor Data:\\n\", tripadvisor_df.head())"
   ]
  },
  {
   "cell_type": "code",
   "execution_count": null,
   "metadata": {
    "execution": {
     "iopub.execute_input": "2024-11-30T17:35:13.095488Z",
     "iopub.status.busy": "2024-11-30T17:35:13.094694Z",
     "iopub.status.idle": "2024-11-30T17:35:13.189290Z",
     "shell.execute_reply": "2024-11-30T17:35:13.187674Z",
     "shell.execute_reply.started": "2024-11-30T17:35:13.095450Z"
    },
    "trusted": true
   },
   "outputs": [
    {
     "name": "stdout",
     "output_type": "stream",
     "text": [
      "Booking DataFrame after cleaning:\n",
      "                           Hotel Name                       Location Rating  \\\n",
      "0   Krabi La Playa Resort - SHA Plus                  Ao Nang Beach    8.2   \n",
      "1        KC Beach Club & Pool Villas  Chaweng City Center , Chaweng    7.1   \n",
      "2       Rawai VIP Villas & Kids Park                    Rawai Beach    8.3   \n",
      "3    FuramaXclusive Sathorn, Bangkok              Bang Rak, Bangkok    7.7   \n",
      "4  Bo Phut Resort and Spa - SHA Plus                         Bophut    9.3   \n",
      "\n",
      "  Review Score review_count  Room Score  \\\n",
      "0    Very Good          141         8.6   \n",
      "1         Good          193         NaN   \n",
      "2    Very Good           63         8.9   \n",
      "3         Good        1,304         8.1   \n",
      "4    Wonderful          294         9.6   \n",
      "\n",
      "                               Room Type                Bed Type  Room Price  \n",
      "0             Deluxe Double or Twin Room     1 double or 2 twins    146026.0  \n",
      "1  Double Room with Balcony and Sea View             1 queen bed    215304.0  \n",
      "2                   2 Bedroom Pool Villa            2 queen beds    435384.0  \n",
      "3                  Executive Double Room              1 full bed    146240.0  \n",
      "4                 Villa with Garden View     1 double or 2 twins    621072.0  \n",
      "\n",
      "Tripadvisor DataFrame after cleaning:\n",
      "                               property name   Room Price review_count  \\\n",
      "0       1. SALA Samui Choengmon Beach Resort     45854.0        2,820   \n",
      "1     2. Napasai, A Belmond Hotel, Koh Samui     29666.0        1,191   \n",
      "2                  3. Pimalai Resort and Spa     31667.0        3,287   \n",
      "3  4. Avani+ Mai Khao Phuket Suites & Villas     23887.0          144   \n",
      "4                   5. Sheraton Samui Resort     18816.0        1,006   \n",
      "\n",
      "                                  Comment about room  \n",
      "0  The breakfast is excellent, the pools are real...  \n",
      "1                We a had perfect view at the beach,  \n",
      "2                                  It has everything  \n",
      "3                                 the villa was very  \n",
      "4  Me & my wife stayed there for 3 Nights and we ...  \n"
     ]
    }
   ],
   "source": [
    "\n",
    "def clean_price(price):\n",
    "    if isinstance(price, str):\n",
    "        try:\n",
    "         \n",
    "            return float(price.replace(',', '').replace('BDT', '').strip())\n",
    "        except ValueError:\n",
    "         \n",
    "            return np.nan\n",
    "    return price\n",
    "\n",
    "\n",
    "booking_df['Room Price'] = booking_df['Room Price'].apply(clean_price)\n",
    "tripadvisor_df['Room Price'] = tripadvisor_df['Room Price'].apply(clean_price)\n",
    "\n",
    "print(\"Booking DataFrame after cleaning:\\n\", booking_df.head())\n",
    "print(\"\\nTripadvisor DataFrame after cleaning:\\n\", tripadvisor_df.head())\n",
    "\n",
    "# # Hàm để xử lý số lượng đánh giá\n",
    "# def clean_review_count(value):\n",
    "#     if isinstance(value, str):\n",
    "#         # Thay dấu phẩy thành dấu chấm cho các số thập phân\n",
    "#         value = value.replace(',', '.')\n",
    "#         # Trích xuất phần số bằng cách loại bỏ chữ\n",
    "#         number = ''.join([char for char in value if char.isdigit() or char == '.'])\n",
    "#         try:\n",
    "#             # Chuyển thành số thực\n",
    "#             return float(number)\n",
    "#         except ValueError:\n",
    "#             # Trả về NaN nếu không thể chuyển đổi\n",
    "#             return float('nan')\n",
    "#     else:\n",
    "#         # Nếu giá trị không phải là chuỗi, trả về NaN\n",
    "#         return float('nan')\n",
    "\n",
    "# # Áp dụng hàm vào cột review_count cho booking_df và tripadvisor_df\n",
    "# booking_df['review_count'] = booking_df['review_count'].apply(clean_review_count)\n",
    "# tripadvisor_df['review_count'] = tripadvisor_df['review_count'].apply(clean_review_count)\n",
    "\n",
    "\n",
    "# # Xử lý điểm đánh giá\n",
    "# booking_df['Review Score'] = pd.to_numeric(booking_df['Review Score'], errors='coerce')\n",
    "\n",
    "# # Loại bỏ các hàng có giá trị NaN\n",
    "# booking_df.dropna(subset=['Room Price', 'Review Score', 'review_count'], inplace=True)\n",
    "# tripadvisor_df.dropna(subset=['Room Price', 'review_count'], inplace=True)\n",
    "\n",
    "# # Kiểm tra kết quả sau khi làm sạch\n",
    "# print(\"Booking DataFrame after cleaning:\\n\", booking_df.head())\n",
    "# print(\"\\nTripadvisor DataFrame after cleaning:\\n\", tripadvisor_df.head())"
   ]
  },
  {
   "cell_type": "code",
   "execution_count": null,
   "metadata": {},
   "outputs": [
    {
     "name": "stdout",
     "output_type": "stream",
     "text": [
      "Booking DataFrame after cleaning:\n",
      " Empty DataFrame\n",
      "Columns: [Hotel Name, Location, Rating, Review Score, review_count, Room Score, Room Type, Bed Type, Room Price]\n",
      "Index: []\n",
      "\n",
      "Tripadvisor DataFrame after cleaning:\n",
      "                               property name  Room Price  review_count  \\\n",
      "0       1. SALA Samui Choengmon Beach Resort     45,854        2820.0   \n",
      "1     2. Napasai, A Belmond Hotel, Koh Samui     29,666        1191.0   \n",
      "2                  3. Pimalai Resort and Spa     31,667        3287.0   \n",
      "3  4. Avani+ Mai Khao Phuket Suites & Villas     23,887         144.0   \n",
      "4                   5. Sheraton Samui Resort     18,816        1006.0   \n",
      "\n",
      "                                  Comment about room  \n",
      "0  The breakfast is excellent, the pools are real...  \n",
      "1                We a had perfect view at the beach,  \n",
      "2                                  It has everything  \n",
      "3                                 the villa was very  \n",
      "4  Me & my wife stayed there for 3 Nights and we ...  \n"
     ]
    }
   ],
   "source": [
    "# Hàm để xử lý số lượng đánh giá\n",
    "def clean_review_count(value):\n",
    "    if isinstance(value, str):\n",
    "        try:\n",
    "            # Loại bỏ ký tự không cần thiết và chuyển đổi sang float\n",
    "            return float(value.replace(',', '').replace('viewer', '').strip())\n",
    "        \n",
    "        except ValueError:\n",
    "            # Nếu không thể chuyển đổi, trả về NaN\n",
    "            return np.nan\n",
    "    return value\n",
    "\n",
    "# Áp dụng hàm vào cột review_count cho booking_df và tripadvisor_df\n",
    "booking_df['review_count'] = booking_df['review_count'].apply(clean_review_count)\n",
    "tripadvisor_df['review_count'] = tripadvisor_df['review_count'].apply(clean_review_count)\n",
    "\n",
    "# # Xử lý điểm đánh giá\n",
    "# booking_df['Review Score'] = pd.to_numeric(booking_df['Review Score'], errors='coerce')\n",
    "\n",
    "# Loại bỏ các hàng có giá trị NaN\n",
    "booking_df.dropna(subset=['Room Price', 'Review Score', 'review_count'], inplace=True)\n",
    "tripadvisor_df.dropna(subset=['Room Price', 'review_count'], inplace=True)\n",
    "\n",
    "# Kiểm tra kết quả sau khi làm sạch\n",
    "print(\"Booking DataFrame after cleaning:\\n\", booking_df.head())\n",
    "print(\"\\nTripadvisor DataFrame after cleaning:\\n\", tripadvisor_df.head())"
   ]
  },
  {
   "cell_type": "code",
   "execution_count": 33,
   "metadata": {
    "trusted": true
   },
   "outputs": [
    {
     "ename": "TypeError",
     "evalue": "Could not convert string '2,8201,1913,2871441,0069681,4742571,6068844,8783,0503,7361,2101,4489,7711,1123,0427802,2212233436301,4762531846581,5733,2302,8721,7333,4172077721,6271,8432,9646959,8353,3791,5491541931,0582,9761,1292031,7052,5271,9236221636693266431,4535851983199084661,7626022,6034584,4562,8222,5762589217852,9041,2065121,2511,2469402,4221,2581,5321,3101,5453838801,3382222973673495,5261,4381,5742702,4824,0583,4631,3627,0844,9751,9019176404,9895122,9341,6658397441911021,1481,1665101,9121,0381,6651545718052,6053431941,1801,1541,1424,9043,0675425,8473,2292,6463,3721,5483913,8546363,1056332,9258058083774222357343312,0761,759822102654,5161,8924,9283,95011,6522,3984221,8923,2751,1772,4398092,1653,871185617431,12935847234117772880559203535851,1235,6952,7293761,2505041,3241403929072812,4284063,0952434,6854,4666978661,0912,8441,8513,4782,3401,4291,0162,2502,0501,5211,7812192,4337861,1283,1755,1093,2884042,2561,7434,2443,5301,7815598,0029983,9573,0803,8821,6031201,0662,0932273,2854493,2423283,2705821,4252,1121482,0883,6451,9833,7404,5351,9251,2232027,3347932,6175,8141,5829113771,1902,6578103522,1911,4241,0101642332654864452742,8302,6323,8972,6101,0814147991,1876305087101605758021,5507434211,2632981,8723836656591,0045853882711,630457616092,9971,4017401,4489234031231,3613,2604367584842017034453361,39692610851462043436135924563411925616012,4428389,1691,2316705035122,3607363317619071,3738565586111297268634919622772171533772212322485001,3069372578573092,3371,3284089882292605,1041971711511,289188392121795452907851,4592062971144903743042451,13662353455753455274470442572254280904144374331761443252399533185197120369270251233523731398354266531071484264381978663861987241481044071,0822052222671054,2253231,6832023469151401303435981,2878371,2762,2494942232692,5286683021992033129472381912206391523002021011432512293093011164382,1699482,7005822571,3151,337990941,248158971,4744,1234204151,2611,2959438451,0761,9351285591971,4194567071759738002,7458782,9391,2671,4021,1221,5821,4651,1213853,4715,8711,6584535313235561,5464573,1139129082992402692943743221915,6411303,5031,2581,0974,4836833781,0251,3405945485,3653661,0282,9491,1346122252433072171,0492747082502846382153092,1537,5431,4071645981,7619,2702,3692495,0934191,0102,9977114555447428615730962034434027232625952094684567163398165822722,0132672562331,9833621,0875034,3671,504786272,0461,0501645813861,0144151,4287141485201261812,8112,1312,2822001,5204792,9261,8182,2501,9211,1067731,081121928132491,870152673136354120180595138104356395901166841194,543681,0392712,1242834691661,0022508859071394816886967854183227282462133874071241064218821,1316021085381323831,9204922,015168475856071711,00916895974931942243071561281031245281151533552555,6886,124673171262753622689722,1374341111571851,5704791248653072184103713810795651143,184741861042,0344335779314312721,96863137260791951272903958432241816211815223215222093951335237311731511816817488921613215332318179220162207246123169561748468163201174522995481,61129174116801406992288749111854324371052011228768246132522485523612318414714756372167931,7367966513019517487486141313751153311656940760232106728713120213418465311,9032073881706619320124545235783151277221165731651227417616714165928611117211712515116014210986254105130792108897185120301782132059649227320189110651038711010116882192427126877215644510934613912239118124413314576664813117835189114140447557206138168560304240353477192226154203183846596634623919520982781023373211321391012304360105151390751501495241549889261257157755615656141651631687849854924011244875216911626542210655167113831694787878373127103711677243161130185102903887822893328416610412056852341282221519149763785250240124681128632881641221,171134152134509916379967611926115010167321011494411046505918262146491441044050236513611810122998138652115456364362061679412148257514428113066745941403319614714915894603631053061473315484713138270147441081557410869775947535721918782242171412159730249133587118438981449899304342407294117543516526322144408210128109108309829760811,89813065408411088342745637112451432481446262314149128129558111168116381671624724110918937116515543337546147332948563355972291145100291103711245473631821025916828616475132371578367783221771378217615090102387362270133716293160184275961178307840523522548785,668185272497224418722022125272391304167323929431 review3051 review9034,38212,1531,9771361,1091,7552592,2186961771432,6721,2652,9533921,2742971,8171,0415736561,2558309235201,4823722451107911990205972,8394042192502343073,3141,5545081414772751,5753545972149651406762452594741561,8302282344731,2157572,8392099052,3323,6173561,6022426,7169606002951,4031,9151,6581951541953,8495,222485977336719757479495230732751,9142818763352,2393,8322,1213721,5432,1582034081712752,0598221642,6222013511702741,1791883294639346222871631,8372066761692583601,0761,8103,9884448781931,1781168371,2223083428244206173763161883721072884372596984,5221243703,4493849501,7064923801,661440297399483861253931,1703324353404163901,4672249342225733303161,7612711599892,5012624621,6963,0533,7171,5334201,8367621,1161,3571,2981764075242959353942265912235323403413624384623263407922,2431,5031,9051,3201,1034372,0501,0187236582291,5837582211534364953553584403572819832773386854623935873,2962,2901,1053785072,2194551,1234463565023083091,0584952591,5297854761672122911743833241966128262061532756281,7129132,4245507437291863397148501411,9812,1443014612733996031,8067326081,2853251533,9281363787001433002041,7611,4961172211,9761,2458,1244095964343503092,1061,5452542282643134321751,1085716332,1891,8395278501,9851,2434621841,2912,5871101,0609823,7741,2402,8381,9371,6338501,2981,8971,1151,1148621504161,2922001,3131151821,3681,1618501,1982,1723,2736412,8448921,049243627785541,4828049098422,4572095257264199502437251,2562855097124241,3682,5175391,2688646731,2047004951,0481,5841,3371,5171571,1021,0121,05544331717952926419823962399685916970762593191628095284467545551,012616915587601,1216822,3791015311,087874551277867413498934351,3991,6561,1431,812756863,19048920453,1411423,81025496279136551,214117769501848502367649535386704981,00549132429373992250547392862513594163,280331661194983224130586439473473872,6401,204370114223016221992,74127433838434449137137154567339593163304295200205312194161193252150835517110236300542278104615015133971621 review1 review1 review81 review47304337316210734641026086167255227269084161011601602,1433,6171,7726539212,2032,0561,5571,8407041,3945791,1948517218081,8151,1621,9956441461571,9086002,2031,4011,7911,3541,2141806991,7871299732,2133,4231,9102,0285781,1745682,4601,2081,9071971,2812685571,4191391,1166,6218274793,4586357359411,6581,3961,1731,2422651,5784547731,4287633182,1786371,8328981,0371,1731,1414216389891,1371628591,3691,8634146251,3871,5472551,1721,0902649455788226281,1101,3255773051,324971,6051265947191322653257273001,6776241,1071,3251,5231,2467551,1383,1953431,6885851,9361,1521,0081,7816673919165324311,6671884106716331,8265758315868679928737031929498671,4448891721891,1495742131,4581,7641,243785508259109993409985623315264376752643241,0441,2207791,0972,4805231,9439732182,7552,6701,1531,7541,0631,4046116875719499336741361,0721,3734471,1264389066066021,1204053941,5365251,2751,1919431,0345119377954055895267702544469185891,2538975418811064673384112601,0041,2207681,0885602,1471,0027731,0771,1339452,1032147651,1747364482,1355586753323589087722005175362988886761,8211,0425156551,2885596493765875839102161,5519467456997541,42692668896614231033953169630987212661,4818819631,2726865495727301,6021,7529068439298504942,8487318117581,0581665126541,1891,5132474896053474821,4579797831,5291,1077693117961,1788036323417202961,5855551362457113548128969885561,2051,3689564902341,6536589801,0093,5729738321,1981,1314107031,2243204694845531,1739671,0581,2713421,0035964085702787682676354011,4003,8952361,0677238281,0923,1329615604591,2387106407464819101,2031,3418813465581308733126406655175175147263331,625888910799470544669854906512590289833897669339189951,3908109731,3374934833537443574204862476214945235276421,4498911,870443451703565466445945697644324886529075241674671,0058474833381896281,0714875411,5371,4987857675882,6855131,083734685777609755501,102688299641588839889338775353271,3981,1124562,6372,539731623406967761,016476426430732238811,2961,6315063855038055864067404567046816504082,9426339821,8981353361,195514734182163422665181538486006455188183267405528833276903103724754381,4533571522,5001,9361668701515893301,5861779273551,22165389372201403835321401341400177287541360421802181,151918952437569436411791001,197687655435362514868871,055736315694193215143362313851,0289235493,2561,4356802176876276492,0518028141,1118934561,271975124611,1735712843998093632373889904351634454267656631,6135013673,8563266071,1841,4142892906427563038301,588228708349398477410783754914073281,3314748017004911,698490395782480386427615370381747552498075111526373782283898865582367725451,2381,8247495272361,1481,003446542162055115735284591,1277891901,01239240217833773470387603464327245534774677661,6436737081,32241026641388495473323241053414811,32973102704245096843584782264151,0691,4024817045022814,4974558897533683653441,62761858468304509783289726811,0186656122435939338486935033433123033048161231324236702981402,3782346662832121672,88913032324420179343922252,68468184186265,7592106843063752531,130419254125551254705293952036709575692811271701,1765122,2877291571,5011,2283142374281,200675297202193817117112043713681772971604536255818623325227422666177337363771,473364295213315890143837102921714231,12127123113188629851519248367104387534891542424,304339325246214282213138692741308331246191527492489419437818026704665460619548181184885574304814171099091226653511449929741114048849124244169144224400336382273501634774,7588632,0863,26411,3997,5836,54610,6313,0023,94910,4315,9936,7252,89410,9606,3472,0024,8222,1472,7673,5307,6616,1911,6842,3341,5492,4803,4914,7614,0577,5834,8226,2555,9428,8493234,7588632,0863,26411,3997,5836,54610,6313,0023,94910,4315,9936,7252,89410,9606,3472,0024,8222,1472,7673,5307,6616,1911,6842,3341,5492,4803,4914,7614,0577,5834,8226,2555,9428,8493231,5625,6533,6104,5188,4637,5921,2189,0893,2241,5742,0745,9947,02414,1243,62481011,4974,8233346,7242766,6407,2941,6872,2363,4423,1511,8764,0576993,3871,2611,3265,9274774,2764,2476,4363,0444,9247,1865,4051,8824411,8305,6559,2586,4283744,7091,1943094,2414,2433,3671,4111,6054,1011,3401,3814,0541,022651,2765,9432,6575,1646,0006,9025,0123,0634,3513,7863,5843544,0688495,0116481,8435,993121,6841,3051,1421,0321,0033,637192712,4445425,1406751,4455171,398515833755,5767,5912251,690220877864,8763,4094,7352,4342,846452,0683,8553,5262,0361,1471901,7798,6161,2504,0567552,2555,1011,5249923101,4114411,0562,0447,5922,0851,7491832,9196,9572,5782,9962,4301,1742,8745,0712,1811,15271058615631745942,0573236205758531,6772,8752671,8994775,1181,2413,6196042,6594615893873,8441,039484,0572,745793653,6926431,1803,4912,9676025122,7124221,6132,4463,3772591,4102,9329371,5321,7016,5402,4382442,5501412651,8547284,0531,2391,4566541641,6771,8242314,1216501013303191,7871901,02810,2252,3751,7471,4373142,5932137669195,9957394985239186371753,6671,013154298615844121,155177295492605112068311053,5816325,3227,5861,9871662274121,1221,6822152,0098267611,4449891,812891,2384836531245579831 review1,8274772032735683436957,5901,6422,5286141,5353,081300174271343,1999809451,38685502,5581,101384258435398185161571 review4797,2362324136,428821419775681791534091,92544338288403365772348871322225551,2121052309821,9587881,0951978048603,017642712253053581,0402061,073783508761661,32217951255424553123301,00192725528137514831,98845323516760310460400218232005842281141041041921 review281091 review1,096877311,2603716531,6433962,5291,5553,091131,666432374181277715197281104214141651132681810115613289518714,1025657136573702521,3258572472174533638216371593586781772851 review21115354695874943525214765178217158339197871452984283314610411144668251 review1 review1392,1733695764484456826525249521184111 review131457101 review1 review237319103166210195144115271491101191026543314701021 review90134551 review1 review21 review1 review1 review1 review62812352594610017941220282363099560000500300300200000000000000000000000000000002,86965864849808927036052202241,3623,3891,3384,6811,8437,0042789793,7142,0296671,2941,7061976341,0481694832,0261082492123322426411624861306761831726250284430258560661441,1722016213163230101791693732021633156162243989572322316512471175629916217846581851223982264327704220149101 review2224625718261 review1 review2548145936991 review1 review22482231 review1 review1 review21 review21 review353664251 review1 review51492617812425916101 review29102161 review161464231 review65517111132141 review1 review18871411746313553491351142610217821 review481861244021 review1 review41 review168004100000000000000012876166090120000000000000000000000000000000000000000000000000000000000000000000000000000000000000000000000000000000000000000000000000000000000001726732141591761661871951,0722509,87027011368613043834456241177128221639152616064103255361352217892746152514511251445265638644110625473912146523234673812787311121252610221 review1 review193531 review31 review1 review1 review1 review1 review1 review151 review331 review1 review281 review1 review1 review1 review1 review1 review1 review0477861 review1 review1 review1 review1 review31 review31 review1 review3321 review1 review1 review221064761 review2181 review241 review47731 review1 review1 review1 review1 review1 review1 review2341 review1 review21 review1 review1 review31 review1 review1 review1141 review221 review1 review1 review1 review477391463624572231 review231 review1 review1 review361 review22275321 review1 review24774238201 review1 review1 review5101 review1 review21 review41 review1 review1 review1 review1 review1832141715751 review1 review331 review56101 review1 review351 review1 review1 review17114141 review1283111 review1 review1 review1 review1 review21 review31 review1 review1 review1 review47789249511627000074584212483420800023000000000000000000000000000000000000000000000000000000000000000000000000000000000000000000000000000000000000000000000000000000000000000000000000000000000000000000000000000000000000000000000000000000000000000000' to numeric",
     "output_type": "error",
     "traceback": [
      "\u001b[1;31m---------------------------------------------------------------------------\u001b[0m",
      "\u001b[1;31mTypeError\u001b[0m                                 Traceback (most recent call last)",
      "Cell \u001b[1;32mIn[33], line 2\u001b[0m\n\u001b[0;32m      1\u001b[0m avg_price \u001b[38;5;241m=\u001b[39m tripadvisor_df[\u001b[38;5;124m'\u001b[39m\u001b[38;5;124mRoom Price\u001b[39m\u001b[38;5;124m'\u001b[39m]\u001b[38;5;241m.\u001b[39mmean()\n\u001b[1;32m----> 2\u001b[0m avg_reviews \u001b[38;5;241m=\u001b[39m \u001b[43mtripadvisor_df\u001b[49m\u001b[43m[\u001b[49m\u001b[38;5;124;43m'\u001b[39;49m\u001b[38;5;124;43mreview_count\u001b[39;49m\u001b[38;5;124;43m'\u001b[39;49m\u001b[43m]\u001b[49m\u001b[38;5;241;43m.\u001b[39;49m\u001b[43mmean\u001b[49m\u001b[43m(\u001b[49m\u001b[43m)\u001b[49m\n\u001b[0;32m      4\u001b[0m tripadvisor_df[\u001b[38;5;124m'\u001b[39m\u001b[38;5;124mPreferred\u001b[39m\u001b[38;5;124m'\u001b[39m] \u001b[38;5;241m=\u001b[39m ((tripadvisor_df[\u001b[38;5;124m'\u001b[39m\u001b[38;5;124mRoom Price\u001b[39m\u001b[38;5;124m'\u001b[39m] \u001b[38;5;241m>\u001b[39m avg_price) \u001b[38;5;241m&\u001b[39m\n\u001b[0;32m      5\u001b[0m                                (tripadvisor_df[\u001b[38;5;124m'\u001b[39m\u001b[38;5;124mreview_count\u001b[39m\u001b[38;5;124m'\u001b[39m] \u001b[38;5;241m>\u001b[39m avg_reviews))\u001b[38;5;241m.\u001b[39mastype(\u001b[38;5;28mint\u001b[39m)\n",
      "File \u001b[1;32mc:\\Users\\ADMIN\\OneDrive\\Máy tính\\Web_Homestay\\.venv\\Lib\\site-packages\\pandas\\core\\series.py:6549\u001b[0m, in \u001b[0;36mSeries.mean\u001b[1;34m(self, axis, skipna, numeric_only, **kwargs)\u001b[0m\n\u001b[0;32m   6541\u001b[0m \u001b[38;5;129m@doc\u001b[39m(make_doc(\u001b[38;5;124m\"\u001b[39m\u001b[38;5;124mmean\u001b[39m\u001b[38;5;124m\"\u001b[39m, ndim\u001b[38;5;241m=\u001b[39m\u001b[38;5;241m1\u001b[39m))\n\u001b[0;32m   6542\u001b[0m \u001b[38;5;28;01mdef\u001b[39;00m \u001b[38;5;21mmean\u001b[39m(\n\u001b[0;32m   6543\u001b[0m     \u001b[38;5;28mself\u001b[39m,\n\u001b[1;32m   (...)\u001b[0m\n\u001b[0;32m   6547\u001b[0m     \u001b[38;5;241m*\u001b[39m\u001b[38;5;241m*\u001b[39mkwargs,\n\u001b[0;32m   6548\u001b[0m ):\n\u001b[1;32m-> 6549\u001b[0m     \u001b[38;5;28;01mreturn\u001b[39;00m \u001b[43mNDFrame\u001b[49m\u001b[38;5;241;43m.\u001b[39;49m\u001b[43mmean\u001b[49m\u001b[43m(\u001b[49m\u001b[38;5;28;43mself\u001b[39;49m\u001b[43m,\u001b[49m\u001b[43m \u001b[49m\u001b[43maxis\u001b[49m\u001b[43m,\u001b[49m\u001b[43m \u001b[49m\u001b[43mskipna\u001b[49m\u001b[43m,\u001b[49m\u001b[43m \u001b[49m\u001b[43mnumeric_only\u001b[49m\u001b[43m,\u001b[49m\u001b[43m \u001b[49m\u001b[38;5;241;43m*\u001b[39;49m\u001b[38;5;241;43m*\u001b[39;49m\u001b[43mkwargs\u001b[49m\u001b[43m)\u001b[49m\n",
      "File \u001b[1;32mc:\\Users\\ADMIN\\OneDrive\\Máy tính\\Web_Homestay\\.venv\\Lib\\site-packages\\pandas\\core\\generic.py:12420\u001b[0m, in \u001b[0;36mNDFrame.mean\u001b[1;34m(self, axis, skipna, numeric_only, **kwargs)\u001b[0m\n\u001b[0;32m  12413\u001b[0m \u001b[38;5;28;01mdef\u001b[39;00m \u001b[38;5;21mmean\u001b[39m(\n\u001b[0;32m  12414\u001b[0m     \u001b[38;5;28mself\u001b[39m,\n\u001b[0;32m  12415\u001b[0m     axis: Axis \u001b[38;5;241m|\u001b[39m \u001b[38;5;28;01mNone\u001b[39;00m \u001b[38;5;241m=\u001b[39m \u001b[38;5;241m0\u001b[39m,\n\u001b[1;32m   (...)\u001b[0m\n\u001b[0;32m  12418\u001b[0m     \u001b[38;5;241m*\u001b[39m\u001b[38;5;241m*\u001b[39mkwargs,\n\u001b[0;32m  12419\u001b[0m ) \u001b[38;5;241m-\u001b[39m\u001b[38;5;241m>\u001b[39m Series \u001b[38;5;241m|\u001b[39m \u001b[38;5;28mfloat\u001b[39m:\n\u001b[1;32m> 12420\u001b[0m     \u001b[38;5;28;01mreturn\u001b[39;00m \u001b[38;5;28;43mself\u001b[39;49m\u001b[38;5;241;43m.\u001b[39;49m\u001b[43m_stat_function\u001b[49m\u001b[43m(\u001b[49m\n\u001b[0;32m  12421\u001b[0m \u001b[43m        \u001b[49m\u001b[38;5;124;43m\"\u001b[39;49m\u001b[38;5;124;43mmean\u001b[39;49m\u001b[38;5;124;43m\"\u001b[39;49m\u001b[43m,\u001b[49m\u001b[43m \u001b[49m\u001b[43mnanops\u001b[49m\u001b[38;5;241;43m.\u001b[39;49m\u001b[43mnanmean\u001b[49m\u001b[43m,\u001b[49m\u001b[43m \u001b[49m\u001b[43maxis\u001b[49m\u001b[43m,\u001b[49m\u001b[43m \u001b[49m\u001b[43mskipna\u001b[49m\u001b[43m,\u001b[49m\u001b[43m \u001b[49m\u001b[43mnumeric_only\u001b[49m\u001b[43m,\u001b[49m\u001b[43m \u001b[49m\u001b[38;5;241;43m*\u001b[39;49m\u001b[38;5;241;43m*\u001b[39;49m\u001b[43mkwargs\u001b[49m\n\u001b[0;32m  12422\u001b[0m \u001b[43m    \u001b[49m\u001b[43m)\u001b[49m\n",
      "File \u001b[1;32mc:\\Users\\ADMIN\\OneDrive\\Máy tính\\Web_Homestay\\.venv\\Lib\\site-packages\\pandas\\core\\generic.py:12377\u001b[0m, in \u001b[0;36mNDFrame._stat_function\u001b[1;34m(self, name, func, axis, skipna, numeric_only, **kwargs)\u001b[0m\n\u001b[0;32m  12373\u001b[0m nv\u001b[38;5;241m.\u001b[39mvalidate_func(name, (), kwargs)\n\u001b[0;32m  12375\u001b[0m validate_bool_kwarg(skipna, \u001b[38;5;124m\"\u001b[39m\u001b[38;5;124mskipna\u001b[39m\u001b[38;5;124m\"\u001b[39m, none_allowed\u001b[38;5;241m=\u001b[39m\u001b[38;5;28;01mFalse\u001b[39;00m)\n\u001b[1;32m> 12377\u001b[0m \u001b[38;5;28;01mreturn\u001b[39;00m \u001b[38;5;28;43mself\u001b[39;49m\u001b[38;5;241;43m.\u001b[39;49m\u001b[43m_reduce\u001b[49m\u001b[43m(\u001b[49m\n\u001b[0;32m  12378\u001b[0m \u001b[43m    \u001b[49m\u001b[43mfunc\u001b[49m\u001b[43m,\u001b[49m\u001b[43m \u001b[49m\u001b[43mname\u001b[49m\u001b[38;5;241;43m=\u001b[39;49m\u001b[43mname\u001b[49m\u001b[43m,\u001b[49m\u001b[43m \u001b[49m\u001b[43maxis\u001b[49m\u001b[38;5;241;43m=\u001b[39;49m\u001b[43maxis\u001b[49m\u001b[43m,\u001b[49m\u001b[43m \u001b[49m\u001b[43mskipna\u001b[49m\u001b[38;5;241;43m=\u001b[39;49m\u001b[43mskipna\u001b[49m\u001b[43m,\u001b[49m\u001b[43m \u001b[49m\u001b[43mnumeric_only\u001b[49m\u001b[38;5;241;43m=\u001b[39;49m\u001b[43mnumeric_only\u001b[49m\n\u001b[0;32m  12379\u001b[0m \u001b[43m\u001b[49m\u001b[43m)\u001b[49m\n",
      "File \u001b[1;32mc:\\Users\\ADMIN\\OneDrive\\Máy tính\\Web_Homestay\\.venv\\Lib\\site-packages\\pandas\\core\\series.py:6457\u001b[0m, in \u001b[0;36mSeries._reduce\u001b[1;34m(self, op, name, axis, skipna, numeric_only, filter_type, **kwds)\u001b[0m\n\u001b[0;32m   6452\u001b[0m     \u001b[38;5;66;03m# GH#47500 - change to TypeError to match other methods\u001b[39;00m\n\u001b[0;32m   6453\u001b[0m     \u001b[38;5;28;01mraise\u001b[39;00m \u001b[38;5;167;01mTypeError\u001b[39;00m(\n\u001b[0;32m   6454\u001b[0m         \u001b[38;5;124mf\u001b[39m\u001b[38;5;124m\"\u001b[39m\u001b[38;5;124mSeries.\u001b[39m\u001b[38;5;132;01m{\u001b[39;00mname\u001b[38;5;132;01m}\u001b[39;00m\u001b[38;5;124m does not allow \u001b[39m\u001b[38;5;132;01m{\u001b[39;00mkwd_name\u001b[38;5;132;01m}\u001b[39;00m\u001b[38;5;124m=\u001b[39m\u001b[38;5;132;01m{\u001b[39;00mnumeric_only\u001b[38;5;132;01m}\u001b[39;00m\u001b[38;5;124m \u001b[39m\u001b[38;5;124m\"\u001b[39m\n\u001b[0;32m   6455\u001b[0m         \u001b[38;5;124m\"\u001b[39m\u001b[38;5;124mwith non-numeric dtypes.\u001b[39m\u001b[38;5;124m\"\u001b[39m\n\u001b[0;32m   6456\u001b[0m     )\n\u001b[1;32m-> 6457\u001b[0m \u001b[38;5;28;01mreturn\u001b[39;00m \u001b[43mop\u001b[49m\u001b[43m(\u001b[49m\u001b[43mdelegate\u001b[49m\u001b[43m,\u001b[49m\u001b[43m \u001b[49m\u001b[43mskipna\u001b[49m\u001b[38;5;241;43m=\u001b[39;49m\u001b[43mskipna\u001b[49m\u001b[43m,\u001b[49m\u001b[43m \u001b[49m\u001b[38;5;241;43m*\u001b[39;49m\u001b[38;5;241;43m*\u001b[39;49m\u001b[43mkwds\u001b[49m\u001b[43m)\u001b[49m\n",
      "File \u001b[1;32mc:\\Users\\ADMIN\\OneDrive\\Máy tính\\Web_Homestay\\.venv\\Lib\\site-packages\\pandas\\core\\nanops.py:147\u001b[0m, in \u001b[0;36mbottleneck_switch.__call__.<locals>.f\u001b[1;34m(values, axis, skipna, **kwds)\u001b[0m\n\u001b[0;32m    145\u001b[0m         result \u001b[38;5;241m=\u001b[39m alt(values, axis\u001b[38;5;241m=\u001b[39maxis, skipna\u001b[38;5;241m=\u001b[39mskipna, \u001b[38;5;241m*\u001b[39m\u001b[38;5;241m*\u001b[39mkwds)\n\u001b[0;32m    146\u001b[0m \u001b[38;5;28;01melse\u001b[39;00m:\n\u001b[1;32m--> 147\u001b[0m     result \u001b[38;5;241m=\u001b[39m \u001b[43malt\u001b[49m\u001b[43m(\u001b[49m\u001b[43mvalues\u001b[49m\u001b[43m,\u001b[49m\u001b[43m \u001b[49m\u001b[43maxis\u001b[49m\u001b[38;5;241;43m=\u001b[39;49m\u001b[43maxis\u001b[49m\u001b[43m,\u001b[49m\u001b[43m \u001b[49m\u001b[43mskipna\u001b[49m\u001b[38;5;241;43m=\u001b[39;49m\u001b[43mskipna\u001b[49m\u001b[43m,\u001b[49m\u001b[43m \u001b[49m\u001b[38;5;241;43m*\u001b[39;49m\u001b[38;5;241;43m*\u001b[39;49m\u001b[43mkwds\u001b[49m\u001b[43m)\u001b[49m\n\u001b[0;32m    149\u001b[0m \u001b[38;5;28;01mreturn\u001b[39;00m result\n",
      "File \u001b[1;32mc:\\Users\\ADMIN\\OneDrive\\Máy tính\\Web_Homestay\\.venv\\Lib\\site-packages\\pandas\\core\\nanops.py:404\u001b[0m, in \u001b[0;36m_datetimelike_compat.<locals>.new_func\u001b[1;34m(values, axis, skipna, mask, **kwargs)\u001b[0m\n\u001b[0;32m    401\u001b[0m \u001b[38;5;28;01mif\u001b[39;00m datetimelike \u001b[38;5;129;01mand\u001b[39;00m mask \u001b[38;5;129;01mis\u001b[39;00m \u001b[38;5;28;01mNone\u001b[39;00m:\n\u001b[0;32m    402\u001b[0m     mask \u001b[38;5;241m=\u001b[39m isna(values)\n\u001b[1;32m--> 404\u001b[0m result \u001b[38;5;241m=\u001b[39m \u001b[43mfunc\u001b[49m\u001b[43m(\u001b[49m\u001b[43mvalues\u001b[49m\u001b[43m,\u001b[49m\u001b[43m \u001b[49m\u001b[43maxis\u001b[49m\u001b[38;5;241;43m=\u001b[39;49m\u001b[43maxis\u001b[49m\u001b[43m,\u001b[49m\u001b[43m \u001b[49m\u001b[43mskipna\u001b[49m\u001b[38;5;241;43m=\u001b[39;49m\u001b[43mskipna\u001b[49m\u001b[43m,\u001b[49m\u001b[43m \u001b[49m\u001b[43mmask\u001b[49m\u001b[38;5;241;43m=\u001b[39;49m\u001b[43mmask\u001b[49m\u001b[43m,\u001b[49m\u001b[43m \u001b[49m\u001b[38;5;241;43m*\u001b[39;49m\u001b[38;5;241;43m*\u001b[39;49m\u001b[43mkwargs\u001b[49m\u001b[43m)\u001b[49m\n\u001b[0;32m    406\u001b[0m \u001b[38;5;28;01mif\u001b[39;00m datetimelike:\n\u001b[0;32m    407\u001b[0m     result \u001b[38;5;241m=\u001b[39m _wrap_results(result, orig_values\u001b[38;5;241m.\u001b[39mdtype, fill_value\u001b[38;5;241m=\u001b[39miNaT)\n",
      "File \u001b[1;32mc:\\Users\\ADMIN\\OneDrive\\Máy tính\\Web_Homestay\\.venv\\Lib\\site-packages\\pandas\\core\\nanops.py:720\u001b[0m, in \u001b[0;36mnanmean\u001b[1;34m(values, axis, skipna, mask)\u001b[0m\n\u001b[0;32m    718\u001b[0m count \u001b[38;5;241m=\u001b[39m _get_counts(values\u001b[38;5;241m.\u001b[39mshape, mask, axis, dtype\u001b[38;5;241m=\u001b[39mdtype_count)\n\u001b[0;32m    719\u001b[0m the_sum \u001b[38;5;241m=\u001b[39m values\u001b[38;5;241m.\u001b[39msum(axis, dtype\u001b[38;5;241m=\u001b[39mdtype_sum)\n\u001b[1;32m--> 720\u001b[0m the_sum \u001b[38;5;241m=\u001b[39m \u001b[43m_ensure_numeric\u001b[49m\u001b[43m(\u001b[49m\u001b[43mthe_sum\u001b[49m\u001b[43m)\u001b[49m\n\u001b[0;32m    722\u001b[0m \u001b[38;5;28;01mif\u001b[39;00m axis \u001b[38;5;129;01mis\u001b[39;00m \u001b[38;5;129;01mnot\u001b[39;00m \u001b[38;5;28;01mNone\u001b[39;00m \u001b[38;5;129;01mand\u001b[39;00m \u001b[38;5;28mgetattr\u001b[39m(the_sum, \u001b[38;5;124m\"\u001b[39m\u001b[38;5;124mndim\u001b[39m\u001b[38;5;124m\"\u001b[39m, \u001b[38;5;28;01mFalse\u001b[39;00m):\n\u001b[0;32m    723\u001b[0m     count \u001b[38;5;241m=\u001b[39m cast(np\u001b[38;5;241m.\u001b[39mndarray, count)\n",
      "File \u001b[1;32mc:\\Users\\ADMIN\\OneDrive\\Máy tính\\Web_Homestay\\.venv\\Lib\\site-packages\\pandas\\core\\nanops.py:1701\u001b[0m, in \u001b[0;36m_ensure_numeric\u001b[1;34m(x)\u001b[0m\n\u001b[0;32m   1698\u001b[0m \u001b[38;5;28;01melif\u001b[39;00m \u001b[38;5;129;01mnot\u001b[39;00m (is_float(x) \u001b[38;5;129;01mor\u001b[39;00m is_integer(x) \u001b[38;5;129;01mor\u001b[39;00m is_complex(x)):\n\u001b[0;32m   1699\u001b[0m     \u001b[38;5;28;01mif\u001b[39;00m \u001b[38;5;28misinstance\u001b[39m(x, \u001b[38;5;28mstr\u001b[39m):\n\u001b[0;32m   1700\u001b[0m         \u001b[38;5;66;03m# GH#44008, GH#36703 avoid casting e.g. strings to numeric\u001b[39;00m\n\u001b[1;32m-> 1701\u001b[0m         \u001b[38;5;28;01mraise\u001b[39;00m \u001b[38;5;167;01mTypeError\u001b[39;00m(\u001b[38;5;124mf\u001b[39m\u001b[38;5;124m\"\u001b[39m\u001b[38;5;124mCould not convert string \u001b[39m\u001b[38;5;124m'\u001b[39m\u001b[38;5;132;01m{\u001b[39;00mx\u001b[38;5;132;01m}\u001b[39;00m\u001b[38;5;124m'\u001b[39m\u001b[38;5;124m to numeric\u001b[39m\u001b[38;5;124m\"\u001b[39m)\n\u001b[0;32m   1702\u001b[0m     \u001b[38;5;28;01mtry\u001b[39;00m:\n\u001b[0;32m   1703\u001b[0m         x \u001b[38;5;241m=\u001b[39m \u001b[38;5;28mfloat\u001b[39m(x)\n",
      "\u001b[1;31mTypeError\u001b[0m: Could not convert string '2,8201,1913,2871441,0069681,4742571,6068844,8783,0503,7361,2101,4489,7711,1123,0427802,2212233436301,4762531846581,5733,2302,8721,7333,4172077721,6271,8432,9646959,8353,3791,5491541931,0582,9761,1292031,7052,5271,9236221636693266431,4535851983199084661,7626022,6034584,4562,8222,5762589217852,9041,2065121,2511,2469402,4221,2581,5321,3101,5453838801,3382222973673495,5261,4381,5742702,4824,0583,4631,3627,0844,9751,9019176404,9895122,9341,6658397441911021,1481,1665101,9121,0381,6651545718052,6053431941,1801,1541,1424,9043,0675425,8473,2292,6463,3721,5483913,8546363,1056332,9258058083774222357343312,0761,759822102654,5161,8924,9283,95011,6522,3984221,8923,2751,1772,4398092,1653,871185617431,12935847234117772880559203535851,1235,6952,7293761,2505041,3241403929072812,4284063,0952434,6854,4666978661,0912,8441,8513,4782,3401,4291,0162,2502,0501,5211,7812192,4337861,1283,1755,1093,2884042,2561,7434,2443,5301,7815598,0029983,9573,0803,8821,6031201,0662,0932273,2854493,2423283,2705821,4252,1121482,0883,6451,9833,7404,5351,9251,2232027,3347932,6175,8141,5829113771,1902,6578103522,1911,4241,0101642332654864452742,8302,6323,8972,6101,0814147991,1876305087101605758021,5507434211,2632981,8723836656591,0045853882711,630457616092,9971,4017401,4489234031231,3613,2604367584842017034453361,39692610851462043436135924563411925616012,4428389,1691,2316705035122,3607363317619071,3738565586111297268634919622772171533772212322485001,3069372578573092,3371,3284089882292605,1041971711511,289188392121795452907851,4592062971144903743042451,13662353455753455274470442572254280904144374331761443252399533185197120369270251233523731398354266531071484264381978663861987241481044071,0822052222671054,2253231,6832023469151401303435981,2878371,2762,2494942232692,5286683021992033129472381912206391523002021011432512293093011164382,1699482,7005822571,3151,337990941,248158971,4744,1234204151,2611,2959438451,0761,9351285591971,4194567071759738002,7458782,9391,2671,4021,1221,5821,4651,1213853,4715,8711,6584535313235561,5464573,1139129082992402692943743221915,6411303,5031,2581,0974,4836833781,0251,3405945485,3653661,0282,9491,1346122252433072171,0492747082502846382153092,1537,5431,4071645981,7619,2702,3692495,0934191,0102,9977114555447428615730962034434027232625952094684567163398165822722,0132672562331,9833621,0875034,3671,504786272,0461,0501645813861,0144151,4287141485201261812,8112,1312,2822001,5204792,9261,8182,2501,9211,1067731,081121928132491,870152673136354120180595138104356395901166841194,543681,0392712,1242834691661,0022508859071394816886967854183227282462133874071241064218821,1316021085381323831,9204922,015168475856071711,00916895974931942243071561281031245281151533552555,6886,124673171262753622689722,1374341111571851,5704791248653072184103713810795651143,184741861042,0344335779314312721,96863137260791951272903958432241816211815223215222093951335237311731511816817488921613215332318179220162207246123169561748468163201174522995481,61129174116801406992288749111854324371052011228768246132522485523612318414714756372167931,7367966513019517487486141313751153311656940760232106728713120213418465311,9032073881706619320124545235783151277221165731651227417616714165928611117211712515116014210986254105130792108897185120301782132059649227320189110651038711010116882192427126877215644510934613912239118124413314576664813117835189114140447557206138168560304240353477192226154203183846596634623919520982781023373211321391012304360105151390751501495241549889261257157755615656141651631687849854924011244875216911626542210655167113831694787878373127103711677243161130185102903887822893328416610412056852341282221519149763785250240124681128632881641221,171134152134509916379967611926115010167321011494411046505918262146491441044050236513611810122998138652115456364362061679412148257514428113066745941403319614714915894603631053061473315484713138270147441081557410869775947535721918782242171412159730249133587118438981449899304342407294117543516526322144408210128109108309829760811,89813065408411088342745637112451432481446262314149128129558111168116381671624724110918937116515543337546147332948563355972291145100291103711245473631821025916828616475132371578367783221771378217615090102387362270133716293160184275961178307840523522548785,668185272497224418722022125272391304167323929431 review3051 review9034,38212,1531,9771361,1091,7552592,2186961771432,6721,2652,9533921,2742971,8171,0415736561,2558309235201,4823722451107911990205972,8394042192502343073,3141,5545081414772751,5753545972149651406762452594741561,8302282344731,2157572,8392099052,3323,6173561,6022426,7169606002951,4031,9151,6581951541953,8495,222485977336719757479495230732751,9142818763352,2393,8322,1213721,5432,1582034081712752,0598221642,6222013511702741,1791883294639346222871631,8372066761692583601,0761,8103,9884448781931,1781168371,2223083428244206173763161883721072884372596984,5221243703,4493849501,7064923801,661440297399483861253931,1703324353404163901,4672249342225733303161,7612711599892,5012624621,6963,0533,7171,5334201,8367621,1161,3571,2981764075242959353942265912235323403413624384623263407922,2431,5031,9051,3201,1034372,0501,0187236582291,5837582211534364953553584403572819832773386854623935873,2962,2901,1053785072,2194551,1234463565023083091,0584952591,5297854761672122911743833241966128262061532756281,7129132,4245507437291863397148501411,9812,1443014612733996031,8067326081,2853251533,9281363787001433002041,7611,4961172211,9761,2458,1244095964343503092,1061,5452542282643134321751,1085716332,1891,8395278501,9851,2434621841,2912,5871101,0609823,7741,2402,8381,9371,6338501,2981,8971,1151,1148621504161,2922001,3131151821,3681,1618501,1982,1723,2736412,8448921,049243627785541,4828049098422,4572095257264199502437251,2562855097124241,3682,5175391,2688646731,2047004951,0481,5841,3371,5171571,1021,0121,05544331717952926419823962399685916970762593191628095284467545551,012616915587601,1216822,3791015311,087874551277867413498934351,3991,6561,1431,812756863,19048920453,1411423,81025496279136551,214117769501848502367649535386704981,00549132429373992250547392862513594163,280331661194983224130586439473473872,6401,204370114223016221992,74127433838434449137137154567339593163304295200205312194161193252150835517110236300542278104615015133971621 review1 review1 review81 review47304337316210734641026086167255227269084161011601602,1433,6171,7726539212,2032,0561,5571,8407041,3945791,1948517218081,8151,1621,9956441461571,9086002,2031,4011,7911,3541,2141806991,7871299732,2133,4231,9102,0285781,1745682,4601,2081,9071971,2812685571,4191391,1166,6218274793,4586357359411,6581,3961,1731,2422651,5784547731,4287633182,1786371,8328981,0371,1731,1414216389891,1371628591,3691,8634146251,3871,5472551,1721,0902649455788226281,1101,3255773051,324971,6051265947191322653257273001,6776241,1071,3251,5231,2467551,1383,1953431,6885851,9361,1521,0081,7816673919165324311,6671884106716331,8265758315868679928737031929498671,4448891721891,1495742131,4581,7641,243785508259109993409985623315264376752643241,0441,2207791,0972,4805231,9439732182,7552,6701,1531,7541,0631,4046116875719499336741361,0721,3734471,1264389066066021,1204053941,5365251,2751,1919431,0345119377954055895267702544469185891,2538975418811064673384112601,0041,2207681,0885602,1471,0027731,0771,1339452,1032147651,1747364482,1355586753323589087722005175362988886761,8211,0425156551,2885596493765875839102161,5519467456997541,42692668896614231033953169630987212661,4818819631,2726865495727301,6021,7529068439298504942,8487318117581,0581665126541,1891,5132474896053474821,4579797831,5291,1077693117961,1788036323417202961,5855551362457113548128969885561,2051,3689564902341,6536589801,0093,5729738321,1981,1314107031,2243204694845531,1739671,0581,2713421,0035964085702787682676354011,4003,8952361,0677238281,0923,1329615604591,2387106407464819101,2031,3418813465581308733126406655175175147263331,625888910799470544669854906512590289833897669339189951,3908109731,3374934833537443574204862476214945235276421,4498911,870443451703565466445945697644324886529075241674671,0058474833381896281,0714875411,5371,4987857675882,6855131,083734685777609755501,102688299641588839889338775353271,3981,1124562,6372,539731623406967761,016476426430732238811,2961,6315063855038055864067404567046816504082,9426339821,8981353361,195514734182163422665181538486006455188183267405528833276903103724754381,4533571522,5001,9361668701515893301,5861779273551,22165389372201403835321401341400177287541360421802181,151918952437569436411791001,197687655435362514868871,055736315694193215143362313851,0289235493,2561,4356802176876276492,0518028141,1118934561,271975124611,1735712843998093632373889904351634454267656631,6135013673,8563266071,1841,4142892906427563038301,588228708349398477410783754914073281,3314748017004911,698490395782480386427615370381747552498075111526373782283898865582367725451,2381,8247495272361,1481,003446542162055115735284591,1277891901,01239240217833773470387603464327245534774677661,6436737081,32241026641388495473323241053414811,32973102704245096843584782264151,0691,4024817045022814,4974558897533683653441,62761858468304509783289726811,0186656122435939338486935033433123033048161231324236702981402,3782346662832121672,88913032324420179343922252,68468184186265,7592106843063752531,130419254125551254705293952036709575692811271701,1765122,2877291571,5011,2283142374281,200675297202193817117112043713681772971604536255818623325227422666177337363771,473364295213315890143837102921714231,12127123113188629851519248367104387534891542424,304339325246214282213138692741308331246191527492489419437818026704665460619548181184885574304814171099091226653511449929741114048849124244169144224400336382273501634774,7588632,0863,26411,3997,5836,54610,6313,0023,94910,4315,9936,7252,89410,9606,3472,0024,8222,1472,7673,5307,6616,1911,6842,3341,5492,4803,4914,7614,0577,5834,8226,2555,9428,8493234,7588632,0863,26411,3997,5836,54610,6313,0023,94910,4315,9936,7252,89410,9606,3472,0024,8222,1472,7673,5307,6616,1911,6842,3341,5492,4803,4914,7614,0577,5834,8226,2555,9428,8493231,5625,6533,6104,5188,4637,5921,2189,0893,2241,5742,0745,9947,02414,1243,62481011,4974,8233346,7242766,6407,2941,6872,2363,4423,1511,8764,0576993,3871,2611,3265,9274774,2764,2476,4363,0444,9247,1865,4051,8824411,8305,6559,2586,4283744,7091,1943094,2414,2433,3671,4111,6054,1011,3401,3814,0541,022651,2765,9432,6575,1646,0006,9025,0123,0634,3513,7863,5843544,0688495,0116481,8435,993121,6841,3051,1421,0321,0033,637192712,4445425,1406751,4455171,398515833755,5767,5912251,690220877864,8763,4094,7352,4342,846452,0683,8553,5262,0361,1471901,7798,6161,2504,0567552,2555,1011,5249923101,4114411,0562,0447,5922,0851,7491832,9196,9572,5782,9962,4301,1742,8745,0712,1811,15271058615631745942,0573236205758531,6772,8752671,8994775,1181,2413,6196042,6594615893873,8441,039484,0572,745793653,6926431,1803,4912,9676025122,7124221,6132,4463,3772591,4102,9329371,5321,7016,5402,4382442,5501412651,8547284,0531,2391,4566541641,6771,8242314,1216501013303191,7871901,02810,2252,3751,7471,4373142,5932137669195,9957394985239186371753,6671,013154298615844121,155177295492605112068311053,5816325,3227,5861,9871662274121,1221,6822152,0098267611,4449891,812891,2384836531245579831 review1,8274772032735683436957,5901,6422,5286141,5353,081300174271343,1999809451,38685502,5581,101384258435398185161571 review4797,2362324136,428821419775681791534091,92544338288403365772348871322225551,2121052309821,9587881,0951978048603,017642712253053581,0402061,073783508761661,32217951255424553123301,00192725528137514831,98845323516760310460400218232005842281141041041921 review281091 review1,096877311,2603716531,6433962,5291,5553,091131,666432374181277715197281104214141651132681810115613289518714,1025657136573702521,3258572472174533638216371593586781772851 review21115354695874943525214765178217158339197871452984283314610411144668251 review1 review1392,1733695764484456826525249521184111 review131457101 review1 review237319103166210195144115271491101191026543314701021 review90134551 review1 review21 review1 review1 review1 review62812352594610017941220282363099560000500300300200000000000000000000000000000002,86965864849808927036052202241,3623,3891,3384,6811,8437,0042789793,7142,0296671,2941,7061976341,0481694832,0261082492123322426411624861306761831726250284430258560661441,1722016213163230101791693732021633156162243989572322316512471175629916217846581851223982264327704220149101 review2224625718261 review1 review2548145936991 review1 review22482231 review1 review1 review21 review21 review353664251 review1 review51492617812425916101 review29102161 review161464231 review65517111132141 review1 review18871411746313553491351142610217821 review481861244021 review1 review41 review168004100000000000000012876166090120000000000000000000000000000000000000000000000000000000000000000000000000000000000000000000000000000000000000000000000000000000000001726732141591761661871951,0722509,87027011368613043834456241177128221639152616064103255361352217892746152514511251445265638644110625473912146523234673812787311121252610221 review1 review193531 review31 review1 review1 review1 review1 review1 review151 review331 review1 review281 review1 review1 review1 review1 review1 review1 review0477861 review1 review1 review1 review1 review31 review31 review1 review3321 review1 review1 review221064761 review2181 review241 review47731 review1 review1 review1 review1 review1 review1 review2341 review1 review21 review1 review1 review31 review1 review1 review1141 review221 review1 review1 review1 review477391463624572231 review231 review1 review1 review361 review22275321 review1 review24774238201 review1 review1 review5101 review1 review21 review41 review1 review1 review1 review1 review1832141715751 review1 review331 review56101 review1 review351 review1 review1 review17114141 review1283111 review1 review1 review1 review1 review21 review31 review1 review1 review1 review47789249511627000074584212483420800023000000000000000000000000000000000000000000000000000000000000000000000000000000000000000000000000000000000000000000000000000000000000000000000000000000000000000000000000000000000000000000000000000000000000000000' to numeric"
     ]
    }
   ],
   "source": [
    "avg_price = tripadvisor_df['Room Price'].mean()\n",
    "avg_reviews = tripadvisor_df['review_count'].mean()\n",
    "\n",
    "tripadvisor_df['Preferred'] = ((tripadvisor_df['Room Price'] > avg_price) &\n",
    "                               (tripadvisor_df['review_count'] > avg_reviews)).astype(int)\n"
   ]
  },
  {
   "cell_type": "code",
   "execution_count": 19,
   "metadata": {
    "trusted": true
   },
   "outputs": [],
   "source": [
    "X_text = tripadvisor_df['Comment about room']\n",
    "X_numeric = tripadvisor_df[['Room Price', 'review_count']]\n",
    "y = tripadvisor_df['Preferred']"
   ]
  },
  {
   "cell_type": "code",
   "execution_count": 20,
   "metadata": {
    "trusted": true
   },
   "outputs": [
    {
     "ename": "ValueError",
     "evalue": "empty vocabulary; perhaps the documents only contain stop words",
     "output_type": "error",
     "traceback": [
      "\u001b[1;31m---------------------------------------------------------------------------\u001b[0m",
      "\u001b[1;31mValueError\u001b[0m                                Traceback (most recent call last)",
      "Cell \u001b[1;32mIn[20], line 2\u001b[0m\n\u001b[0;32m      1\u001b[0m tfidf \u001b[38;5;241m=\u001b[39m TfidfVectorizer(max_features\u001b[38;5;241m=\u001b[39m\u001b[38;5;241m500\u001b[39m)\n\u001b[1;32m----> 2\u001b[0m X_text_tfidf \u001b[38;5;241m=\u001b[39m \u001b[43mtfidf\u001b[49m\u001b[38;5;241;43m.\u001b[39;49m\u001b[43mfit_transform\u001b[49m\u001b[43m(\u001b[49m\u001b[43mX_text\u001b[49m\u001b[43m)\u001b[49m\u001b[38;5;241m.\u001b[39mtoarray()\n",
      "File \u001b[1;32mc:\\Users\\ADMIN\\OneDrive\\Máy tính\\Web_Homestay\\.venv\\Lib\\site-packages\\sklearn\\feature_extraction\\text.py:2091\u001b[0m, in \u001b[0;36mTfidfVectorizer.fit_transform\u001b[1;34m(self, raw_documents, y)\u001b[0m\n\u001b[0;32m   2084\u001b[0m \u001b[38;5;28mself\u001b[39m\u001b[38;5;241m.\u001b[39m_check_params()\n\u001b[0;32m   2085\u001b[0m \u001b[38;5;28mself\u001b[39m\u001b[38;5;241m.\u001b[39m_tfidf \u001b[38;5;241m=\u001b[39m TfidfTransformer(\n\u001b[0;32m   2086\u001b[0m     norm\u001b[38;5;241m=\u001b[39m\u001b[38;5;28mself\u001b[39m\u001b[38;5;241m.\u001b[39mnorm,\n\u001b[0;32m   2087\u001b[0m     use_idf\u001b[38;5;241m=\u001b[39m\u001b[38;5;28mself\u001b[39m\u001b[38;5;241m.\u001b[39muse_idf,\n\u001b[0;32m   2088\u001b[0m     smooth_idf\u001b[38;5;241m=\u001b[39m\u001b[38;5;28mself\u001b[39m\u001b[38;5;241m.\u001b[39msmooth_idf,\n\u001b[0;32m   2089\u001b[0m     sublinear_tf\u001b[38;5;241m=\u001b[39m\u001b[38;5;28mself\u001b[39m\u001b[38;5;241m.\u001b[39msublinear_tf,\n\u001b[0;32m   2090\u001b[0m )\n\u001b[1;32m-> 2091\u001b[0m X \u001b[38;5;241m=\u001b[39m \u001b[38;5;28;43msuper\u001b[39;49m\u001b[43m(\u001b[49m\u001b[43m)\u001b[49m\u001b[38;5;241;43m.\u001b[39;49m\u001b[43mfit_transform\u001b[49m\u001b[43m(\u001b[49m\u001b[43mraw_documents\u001b[49m\u001b[43m)\u001b[49m\n\u001b[0;32m   2092\u001b[0m \u001b[38;5;28mself\u001b[39m\u001b[38;5;241m.\u001b[39m_tfidf\u001b[38;5;241m.\u001b[39mfit(X)\n\u001b[0;32m   2093\u001b[0m \u001b[38;5;66;03m# X is already a transformed view of raw_documents so\u001b[39;00m\n\u001b[0;32m   2094\u001b[0m \u001b[38;5;66;03m# we set copy to False\u001b[39;00m\n",
      "File \u001b[1;32mc:\\Users\\ADMIN\\OneDrive\\Máy tính\\Web_Homestay\\.venv\\Lib\\site-packages\\sklearn\\base.py:1473\u001b[0m, in \u001b[0;36m_fit_context.<locals>.decorator.<locals>.wrapper\u001b[1;34m(estimator, *args, **kwargs)\u001b[0m\n\u001b[0;32m   1466\u001b[0m     estimator\u001b[38;5;241m.\u001b[39m_validate_params()\n\u001b[0;32m   1468\u001b[0m \u001b[38;5;28;01mwith\u001b[39;00m config_context(\n\u001b[0;32m   1469\u001b[0m     skip_parameter_validation\u001b[38;5;241m=\u001b[39m(\n\u001b[0;32m   1470\u001b[0m         prefer_skip_nested_validation \u001b[38;5;129;01mor\u001b[39;00m global_skip_validation\n\u001b[0;32m   1471\u001b[0m     )\n\u001b[0;32m   1472\u001b[0m ):\n\u001b[1;32m-> 1473\u001b[0m     \u001b[38;5;28;01mreturn\u001b[39;00m \u001b[43mfit_method\u001b[49m\u001b[43m(\u001b[49m\u001b[43mestimator\u001b[49m\u001b[43m,\u001b[49m\u001b[43m \u001b[49m\u001b[38;5;241;43m*\u001b[39;49m\u001b[43margs\u001b[49m\u001b[43m,\u001b[49m\u001b[43m \u001b[49m\u001b[38;5;241;43m*\u001b[39;49m\u001b[38;5;241;43m*\u001b[39;49m\u001b[43mkwargs\u001b[49m\u001b[43m)\u001b[49m\n",
      "File \u001b[1;32mc:\\Users\\ADMIN\\OneDrive\\Máy tính\\Web_Homestay\\.venv\\Lib\\site-packages\\sklearn\\feature_extraction\\text.py:1372\u001b[0m, in \u001b[0;36mCountVectorizer.fit_transform\u001b[1;34m(self, raw_documents, y)\u001b[0m\n\u001b[0;32m   1364\u001b[0m             warnings\u001b[38;5;241m.\u001b[39mwarn(\n\u001b[0;32m   1365\u001b[0m                 \u001b[38;5;124m\"\u001b[39m\u001b[38;5;124mUpper case characters found in\u001b[39m\u001b[38;5;124m\"\u001b[39m\n\u001b[0;32m   1366\u001b[0m                 \u001b[38;5;124m\"\u001b[39m\u001b[38;5;124m vocabulary while \u001b[39m\u001b[38;5;124m'\u001b[39m\u001b[38;5;124mlowercase\u001b[39m\u001b[38;5;124m'\u001b[39m\u001b[38;5;124m\"\u001b[39m\n\u001b[0;32m   1367\u001b[0m                 \u001b[38;5;124m\"\u001b[39m\u001b[38;5;124m is True. These entries will not\u001b[39m\u001b[38;5;124m\"\u001b[39m\n\u001b[0;32m   1368\u001b[0m                 \u001b[38;5;124m\"\u001b[39m\u001b[38;5;124m be matched with any documents\u001b[39m\u001b[38;5;124m\"\u001b[39m\n\u001b[0;32m   1369\u001b[0m             )\n\u001b[0;32m   1370\u001b[0m             \u001b[38;5;28;01mbreak\u001b[39;00m\n\u001b[1;32m-> 1372\u001b[0m vocabulary, X \u001b[38;5;241m=\u001b[39m \u001b[38;5;28;43mself\u001b[39;49m\u001b[38;5;241;43m.\u001b[39;49m\u001b[43m_count_vocab\u001b[49m\u001b[43m(\u001b[49m\u001b[43mraw_documents\u001b[49m\u001b[43m,\u001b[49m\u001b[43m \u001b[49m\u001b[38;5;28;43mself\u001b[39;49m\u001b[38;5;241;43m.\u001b[39;49m\u001b[43mfixed_vocabulary_\u001b[49m\u001b[43m)\u001b[49m\n\u001b[0;32m   1374\u001b[0m \u001b[38;5;28;01mif\u001b[39;00m \u001b[38;5;28mself\u001b[39m\u001b[38;5;241m.\u001b[39mbinary:\n\u001b[0;32m   1375\u001b[0m     X\u001b[38;5;241m.\u001b[39mdata\u001b[38;5;241m.\u001b[39mfill(\u001b[38;5;241m1\u001b[39m)\n",
      "File \u001b[1;32mc:\\Users\\ADMIN\\OneDrive\\Máy tính\\Web_Homestay\\.venv\\Lib\\site-packages\\sklearn\\feature_extraction\\text.py:1278\u001b[0m, in \u001b[0;36mCountVectorizer._count_vocab\u001b[1;34m(self, raw_documents, fixed_vocab)\u001b[0m\n\u001b[0;32m   1276\u001b[0m     vocabulary \u001b[38;5;241m=\u001b[39m \u001b[38;5;28mdict\u001b[39m(vocabulary)\n\u001b[0;32m   1277\u001b[0m     \u001b[38;5;28;01mif\u001b[39;00m \u001b[38;5;129;01mnot\u001b[39;00m vocabulary:\n\u001b[1;32m-> 1278\u001b[0m         \u001b[38;5;28;01mraise\u001b[39;00m \u001b[38;5;167;01mValueError\u001b[39;00m(\n\u001b[0;32m   1279\u001b[0m             \u001b[38;5;124m\"\u001b[39m\u001b[38;5;124mempty vocabulary; perhaps the documents only contain stop words\u001b[39m\u001b[38;5;124m\"\u001b[39m\n\u001b[0;32m   1280\u001b[0m         )\n\u001b[0;32m   1282\u001b[0m \u001b[38;5;28;01mif\u001b[39;00m indptr[\u001b[38;5;241m-\u001b[39m\u001b[38;5;241m1\u001b[39m] \u001b[38;5;241m>\u001b[39m np\u001b[38;5;241m.\u001b[39miinfo(np\u001b[38;5;241m.\u001b[39mint32)\u001b[38;5;241m.\u001b[39mmax:  \u001b[38;5;66;03m# = 2**31 - 1\u001b[39;00m\n\u001b[0;32m   1283\u001b[0m     \u001b[38;5;28;01mif\u001b[39;00m _IS_32BIT:\n",
      "\u001b[1;31mValueError\u001b[0m: empty vocabulary; perhaps the documents only contain stop words"
     ]
    }
   ],
   "source": [
    "tfidf = TfidfVectorizer(max_features=500)\n",
    "X_text_tfidf = tfidf.fit_transform(X_text).toarray()"
   ]
  },
  {
   "cell_type": "code",
   "execution_count": null,
   "metadata": {
    "trusted": true
   },
   "outputs": [],
   "source": [
    "X = np.hstack((X_text_tfidf, X_numeric))"
   ]
  },
  {
   "cell_type": "code",
   "execution_count": null,
   "metadata": {
    "trusted": true
   },
   "outputs": [],
   "source": [
    "X_train, X_test, y_train, y_test = train_test_split(X, y, test_size=0.2, random_state=42)"
   ]
  },
  {
   "cell_type": "code",
   "execution_count": null,
   "metadata": {
    "trusted": true
   },
   "outputs": [],
   "source": [
    "model = RandomForestClassifier(random_state=42)\n",
    "model.fit(X_train, y_train)"
   ]
  },
  {
   "cell_type": "code",
   "execution_count": null,
   "metadata": {
    "trusted": true
   },
   "outputs": [],
   "source": [
    "y_pred = model.predict(X_test)"
   ]
  },
  {
   "cell_type": "code",
   "execution_count": null,
   "metadata": {
    "trusted": true
   },
   "outputs": [],
   "source": [
    "print(classification_report(y_test, y_pred))"
   ]
  }
 ],
 "metadata": {
  "kaggle": {
   "accelerator": "none",
   "dataSources": [
    {
     "datasetId": 3150721,
     "sourceId": 5449910,
     "sourceType": "datasetVersion"
    }
   ],
   "dockerImageVersionId": 30786,
   "isGpuEnabled": false,
   "isInternetEnabled": false,
   "language": "python",
   "sourceType": "notebook"
  },
  "kernelspec": {
   "display_name": ".venv",
   "language": "python",
   "name": "python3"
  },
  "language_info": {
   "codemirror_mode": {
    "name": "ipython",
    "version": 3
   },
   "file_extension": ".py",
   "mimetype": "text/x-python",
   "name": "python",
   "nbconvert_exporter": "python",
   "pygments_lexer": "ipython3",
   "version": "3.13.0"
  }
 },
 "nbformat": 4,
 "nbformat_minor": 4
}
